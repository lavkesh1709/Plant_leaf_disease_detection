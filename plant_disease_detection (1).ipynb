{
  "cells": [
    {
      "cell_type": "code",
      "execution_count": null,
      "metadata": {
        "id": "ssCmfk9Pz6P7"
      },
      "outputs": [],
      "source": [
        "# Importing library modules\n",
        "\n",
        "from google.colab import files                               # To download files\n",
        "import numpy as np                                           # For array operation\n",
        "import matplotlib.pyplot as plt                              # For plotting\n",
        "import glob                                                  # To dynamically load data\n",
        "import cv2                                                   # Image related operation\n",
        "from google.colab.patches import cv2\n",
        "from tensorflow import keras\n",
        "from tensorflow.keras import layers                        # For displaying image\n",
        "from tensorflow.keras.preprocessing import image             # Image processing\n",
        "from tensorflow.keras.applications.vgg16 import VGG16#MobileNetV2 # To import convolution base\n",
        "from tensorflow.keras.applications.vgg16 import preprocess_input # To preprocess images according to the model\n",
        "from keras.models import Model, Sequential                   # To import model skeleton\n",
        "from keras.layers import Dense,Dropout, Flatten, Conv2D, MaxPooling2D, GlobalAveragePooling2D # To import layer and related methods, classes\n",
        "import os                                                     # To find the path\n",
        "import seaborn as sns                                         # For editing plots"
      ]
    },
    {
      "cell_type": "code",
      "execution_count": null,
      "metadata": {
        "id": "qT7s0veh0KvV"
      },
      "outputs": [],
      "source": [
        " ! pip install -q kaggle"
      ]
    },
    {
      "cell_type": "code",
      "execution_count": null,
      "metadata": {
        "colab": {
          "base_uri": "https://localhost:8080/",
          "height": 90
        },
        "id": "Na8DAXQs7B3v",
        "outputId": "6d39ed4c-527d-4925-eb81-a5d0cc6d7158"
      },
      "outputs": [
        {
          "output_type": "display_data",
          "data": {
            "text/plain": [
              "<IPython.core.display.HTML object>"
            ],
            "text/html": [
              "\n",
              "     <input type=\"file\" id=\"files-9d352ab5-ce17-43f3-97f9-d93d6c81c750\" name=\"files[]\" multiple disabled\n",
              "        style=\"border:none\" />\n",
              "     <output id=\"result-9d352ab5-ce17-43f3-97f9-d93d6c81c750\">\n",
              "      Upload widget is only available when the cell has been executed in the\n",
              "      current browser session. Please rerun this cell to enable.\n",
              "      </output>\n",
              "      <script>// Copyright 2017 Google LLC\n",
              "//\n",
              "// Licensed under the Apache License, Version 2.0 (the \"License\");\n",
              "// you may not use this file except in compliance with the License.\n",
              "// You may obtain a copy of the License at\n",
              "//\n",
              "//      http://www.apache.org/licenses/LICENSE-2.0\n",
              "//\n",
              "// Unless required by applicable law or agreed to in writing, software\n",
              "// distributed under the License is distributed on an \"AS IS\" BASIS,\n",
              "// WITHOUT WARRANTIES OR CONDITIONS OF ANY KIND, either express or implied.\n",
              "// See the License for the specific language governing permissions and\n",
              "// limitations under the License.\n",
              "\n",
              "/**\n",
              " * @fileoverview Helpers for google.colab Python module.\n",
              " */\n",
              "(function(scope) {\n",
              "function span(text, styleAttributes = {}) {\n",
              "  const element = document.createElement('span');\n",
              "  element.textContent = text;\n",
              "  for (const key of Object.keys(styleAttributes)) {\n",
              "    element.style[key] = styleAttributes[key];\n",
              "  }\n",
              "  return element;\n",
              "}\n",
              "\n",
              "// Max number of bytes which will be uploaded at a time.\n",
              "const MAX_PAYLOAD_SIZE = 100 * 1024;\n",
              "\n",
              "function _uploadFiles(inputId, outputId) {\n",
              "  const steps = uploadFilesStep(inputId, outputId);\n",
              "  const outputElement = document.getElementById(outputId);\n",
              "  // Cache steps on the outputElement to make it available for the next call\n",
              "  // to uploadFilesContinue from Python.\n",
              "  outputElement.steps = steps;\n",
              "\n",
              "  return _uploadFilesContinue(outputId);\n",
              "}\n",
              "\n",
              "// This is roughly an async generator (not supported in the browser yet),\n",
              "// where there are multiple asynchronous steps and the Python side is going\n",
              "// to poll for completion of each step.\n",
              "// This uses a Promise to block the python side on completion of each step,\n",
              "// then passes the result of the previous step as the input to the next step.\n",
              "function _uploadFilesContinue(outputId) {\n",
              "  const outputElement = document.getElementById(outputId);\n",
              "  const steps = outputElement.steps;\n",
              "\n",
              "  const next = steps.next(outputElement.lastPromiseValue);\n",
              "  return Promise.resolve(next.value.promise).then((value) => {\n",
              "    // Cache the last promise value to make it available to the next\n",
              "    // step of the generator.\n",
              "    outputElement.lastPromiseValue = value;\n",
              "    return next.value.response;\n",
              "  });\n",
              "}\n",
              "\n",
              "/**\n",
              " * Generator function which is called between each async step of the upload\n",
              " * process.\n",
              " * @param {string} inputId Element ID of the input file picker element.\n",
              " * @param {string} outputId Element ID of the output display.\n",
              " * @return {!Iterable<!Object>} Iterable of next steps.\n",
              " */\n",
              "function* uploadFilesStep(inputId, outputId) {\n",
              "  const inputElement = document.getElementById(inputId);\n",
              "  inputElement.disabled = false;\n",
              "\n",
              "  const outputElement = document.getElementById(outputId);\n",
              "  outputElement.innerHTML = '';\n",
              "\n",
              "  const pickedPromise = new Promise((resolve) => {\n",
              "    inputElement.addEventListener('change', (e) => {\n",
              "      resolve(e.target.files);\n",
              "    });\n",
              "  });\n",
              "\n",
              "  const cancel = document.createElement('button');\n",
              "  inputElement.parentElement.appendChild(cancel);\n",
              "  cancel.textContent = 'Cancel upload';\n",
              "  const cancelPromise = new Promise((resolve) => {\n",
              "    cancel.onclick = () => {\n",
              "      resolve(null);\n",
              "    };\n",
              "  });\n",
              "\n",
              "  // Wait for the user to pick the files.\n",
              "  const files = yield {\n",
              "    promise: Promise.race([pickedPromise, cancelPromise]),\n",
              "    response: {\n",
              "      action: 'starting',\n",
              "    }\n",
              "  };\n",
              "\n",
              "  cancel.remove();\n",
              "\n",
              "  // Disable the input element since further picks are not allowed.\n",
              "  inputElement.disabled = true;\n",
              "\n",
              "  if (!files) {\n",
              "    return {\n",
              "      response: {\n",
              "        action: 'complete',\n",
              "      }\n",
              "    };\n",
              "  }\n",
              "\n",
              "  for (const file of files) {\n",
              "    const li = document.createElement('li');\n",
              "    li.append(span(file.name, {fontWeight: 'bold'}));\n",
              "    li.append(span(\n",
              "        `(${file.type || 'n/a'}) - ${file.size} bytes, ` +\n",
              "        `last modified: ${\n",
              "            file.lastModifiedDate ? file.lastModifiedDate.toLocaleDateString() :\n",
              "                                    'n/a'} - `));\n",
              "    const percent = span('0% done');\n",
              "    li.appendChild(percent);\n",
              "\n",
              "    outputElement.appendChild(li);\n",
              "\n",
              "    const fileDataPromise = new Promise((resolve) => {\n",
              "      const reader = new FileReader();\n",
              "      reader.onload = (e) => {\n",
              "        resolve(e.target.result);\n",
              "      };\n",
              "      reader.readAsArrayBuffer(file);\n",
              "    });\n",
              "    // Wait for the data to be ready.\n",
              "    let fileData = yield {\n",
              "      promise: fileDataPromise,\n",
              "      response: {\n",
              "        action: 'continue',\n",
              "      }\n",
              "    };\n",
              "\n",
              "    // Use a chunked sending to avoid message size limits. See b/62115660.\n",
              "    let position = 0;\n",
              "    do {\n",
              "      const length = Math.min(fileData.byteLength - position, MAX_PAYLOAD_SIZE);\n",
              "      const chunk = new Uint8Array(fileData, position, length);\n",
              "      position += length;\n",
              "\n",
              "      const base64 = btoa(String.fromCharCode.apply(null, chunk));\n",
              "      yield {\n",
              "        response: {\n",
              "          action: 'append',\n",
              "          file: file.name,\n",
              "          data: base64,\n",
              "        },\n",
              "      };\n",
              "\n",
              "      let percentDone = fileData.byteLength === 0 ?\n",
              "          100 :\n",
              "          Math.round((position / fileData.byteLength) * 100);\n",
              "      percent.textContent = `${percentDone}% done`;\n",
              "\n",
              "    } while (position < fileData.byteLength);\n",
              "  }\n",
              "\n",
              "  // All done.\n",
              "  yield {\n",
              "    response: {\n",
              "      action: 'complete',\n",
              "    }\n",
              "  };\n",
              "}\n",
              "\n",
              "scope.google = scope.google || {};\n",
              "scope.google.colab = scope.google.colab || {};\n",
              "scope.google.colab._files = {\n",
              "  _uploadFiles,\n",
              "  _uploadFilesContinue,\n",
              "};\n",
              "})(self);\n",
              "</script> "
            ]
          },
          "metadata": {}
        },
        {
          "output_type": "stream",
          "name": "stdout",
          "text": [
            "Saving kaggle.json to kaggle.json\n"
          ]
        },
        {
          "output_type": "execute_result",
          "data": {
            "text/plain": [
              "{'kaggle.json': b'{\"username\":\"lavkesh1709\",\"key\":\"65bac9f75b2cfc27eeba213309f1265f\"}'}"
            ]
          },
          "metadata": {},
          "execution_count": 3
        }
      ],
      "source": [
        "from google.colab import files\n",
        "files.upload()"
      ]
    },
    {
      "cell_type": "code",
      "execution_count": null,
      "metadata": {
        "colab": {
          "base_uri": "https://localhost:8080/"
        },
        "id": "Ybe7xwVi7Gku",
        "outputId": "695c1289-5fb8-48af-efbe-b3b708dd5132"
      },
      "outputs": [
        {
          "output_type": "stream",
          "name": "stdout",
          "text": [
            "rm: cannot remove '/root/.kaggle': No such file or directory\n"
          ]
        }
      ],
      "source": [
        "!rm -r ~/.kaggle\n",
        "!mkdir ~/.kaggle\n",
        "!mv ./kaggle.json ~/.kaggle/\n",
        "!chmod 600 ~/.kaggle/kaggle.json"
      ]
    },
    {
      "cell_type": "code",
      "execution_count": null,
      "metadata": {
        "colab": {
          "base_uri": "https://localhost:8080/"
        },
        "id": "ZUWHC5ag7RUR",
        "outputId": "1eaa9580-5478-43ea-c020-e2a4515d3f37"
      },
      "outputs": [
        {
          "output_type": "stream",
          "name": "stdout",
          "text": [
            "Downloading soybean-disease-dataset.zip to /content\n",
            "100% 823M/823M [00:11<00:00, 136MB/s]\n",
            "100% 823M/823M [00:11<00:00, 76.6MB/s]\n"
          ]
        }
      ],
      "source": [
        "#!kaggle datasets download -d vbookshelf/rice-leaf-diseases #0.5\n",
        "# !kaggle datasets download -d dhamur/cotton-plant-disease  #0.36\n",
        "!kaggle datasets download -d shuvoalok98/soybean-disease-dataset"
      ]
    },
    {
      "cell_type": "code",
      "execution_count": null,
      "metadata": {
        "id": "blG8jeZU6Ral"
      },
      "outputs": [],
      "source": [
        "#!mkdir Dataset"
      ]
    },
    {
      "cell_type": "code",
      "execution_count": null,
      "metadata": {
        "id": "KnhANfyZ7s4i"
      },
      "outputs": [],
      "source": [
        "#!cp /content/drive/MyDrive/Kaggle/soybeanleafdataset.zip /content/Dataset/soybeanleafdataset.zip\n",
        "#!unzip -q /content/Dataset/soybeanleafdataset.zip -d /content/Dataset\n",
        "#!rm /content/Dataset/soybeanleafdataset.zip"
      ]
    },
    {
      "cell_type": "code",
      "execution_count": null,
      "metadata": {
        "id": "2rck3-NQ7Mmo"
      },
      "outputs": [],
      "source": [
        "! unzip -q 'soybean-disease-dataset.zip'"
      ]
    },
    {
      "cell_type": "code",
      "execution_count": null,
      "metadata": {
        "id": "56YtdgWygFmV"
      },
      "outputs": [],
      "source": []
    },
    {
      "cell_type": "code",
      "execution_count": null,
      "metadata": {
        "colab": {
          "base_uri": "https://localhost:8080/"
        },
        "id": "vcvFaA2m7sRC",
        "outputId": "d899d61a-e8ff-458d-efff-d73736271e25"
      },
      "outputs": [
        {
          "output_type": "execute_result",
          "data": {
            "text/plain": [
              "['.config', 'soybean-disease-dataset.zip', 'sample_data']"
            ]
          },
          "metadata": {},
          "execution_count": 6
        }
      ],
      "source": [
        "os.listdir()"
      ]
    },
    {
      "cell_type": "code",
      "execution_count": null,
      "metadata": {
        "colab": {
          "base_uri": "https://localhost:8080/"
        },
        "id": "lYdWOiuj7_Or",
        "outputId": "4c4959f4-7cd2-4301-e6ab-b7dba7a1a046"
      },
      "outputs": [
        {
          "output_type": "stream",
          "name": "stdout",
          "text": [
            "soybean-disease-dataset.zip\n",
            "/content/soybean-disease-dataset.zip\n"
          ]
        }
      ],
      "source": [
        "# Importing data from MyDrive\n",
        "\n",
        "#print(os.listdir(\"/content/drive/MyDrive/FINAL(ORG)/\"))\n",
        "\n",
        "SIZE = 128\n",
        "classes = 0\n",
        "Timages = []\n",
        "Tlabels = []\n",
        "for directory_path in glob.glob(\"/content/soybean-disease-dataset.zip\"):\n",
        "    label = directory_path.split(\"/\")[-1]\n",
        "    num = 0\n",
        "    if classes==2:\n",
        "      break\n",
        "    classes += 1\n",
        "    print(label)\n",
        "    print(directory_path)\n",
        "\n",
        "    for img_path in glob.glob(os.path.join(directory_path,\"*.*\")):\n",
        "      print(img_path)\n",
        "      img = cv2.imread(img_path, cv2.IMREAD_COLOR)\n",
        "      img = cv2.resize(img, (SIZE, SIZE))\n",
        "      #img = cv2.cvtColor(img, cv2.COLOR_RGB2HSV)  #add image space converter\n",
        "      img = cv2.normalize(img, None, alpha=0, beta=1, norm_type=cv2.NORM_MINMAX, dtype=cv2.CV_32F)\n",
        "\n",
        "      Timages.append(img)\n",
        "      Tlabels.append(label)\n",
        "      #num+=1\n",
        "      #if num>890:\n",
        "       # break\n",
        "\n",
        "Timages = np.array(Timages)\n",
        "Tlabels = np.array(Tlabels)"
      ]
    },
    {
      "cell_type": "code",
      "execution_count": null,
      "metadata": {
        "id": "JMUfbVvH5wsL"
      },
      "outputs": [],
      "source": [
        "data_augmentation = keras.Sequential([\n",
        "  layers.RandomFlip('horizontal')\n",
        "  ,layers.RandomRotation(0.2)\n",
        "  ,layers.RandomContrast(0.2)\n",
        "  ,layers.RandomZoom(0.5,0.2)\n",
        "])\n"
      ]
    },
    {
      "cell_type": "code",
      "execution_count": null,
      "metadata": {
        "id": "CiRBBlx76koy"
      },
      "outputs": [],
      "source": [
        "preprocess_input = keras.applications.mobilenet_v2.preprocess_input\n",
        "rescale = layers.Rescaling(1./127.5, offset=-1)"
      ]
    },
    {
      "cell_type": "code",
      "execution_count": null,
      "metadata": {
        "id": "AoWQPRp987dj",
        "colab": {
          "base_uri": "https://localhost:8080/",
          "height": 363
        },
        "outputId": "f5c1cbf3-7959-4d00-fe85-a5765cfc765a"
      },
      "outputs": [
        {
          "output_type": "error",
          "ename": "ValueError",
          "evalue": "ignored",
          "traceback": [
            "\u001b[0;31m---------------------------------------------------------------------------\u001b[0m",
            "\u001b[0;31mValueError\u001b[0m                                Traceback (most recent call last)",
            "\u001b[0;32m<ipython-input-11-543ec5c0e6dd>\u001b[0m in \u001b[0;36m<cell line: 9>\u001b[0;34m()\u001b[0m\n\u001b[1;32m      7\u001b[0m \u001b[0;34m\u001b[0m\u001b[0m\n\u001b[1;32m      8\u001b[0m \u001b[0;31m# If one hot encoding required\u001b[0m\u001b[0;34m\u001b[0m\u001b[0;34m\u001b[0m\u001b[0m\n\u001b[0;32m----> 9\u001b[0;31m \u001b[0mx_t\u001b[0m\u001b[0;34m,\u001b[0m \u001b[0mx_test\u001b[0m\u001b[0;34m,\u001b[0m \u001b[0my_t\u001b[0m\u001b[0;34m,\u001b[0m \u001b[0my_test\u001b[0m \u001b[0;34m=\u001b[0m \u001b[0mtrain_test_split\u001b[0m\u001b[0;34m(\u001b[0m\u001b[0mTimages\u001b[0m\u001b[0;34m,\u001b[0m \u001b[0mTlabels\u001b[0m\u001b[0;34m,\u001b[0m \u001b[0mtest_size\u001b[0m\u001b[0;34m=\u001b[0m\u001b[0;36m0.20\u001b[0m\u001b[0;34m,\u001b[0m \u001b[0mrandom_state\u001b[0m\u001b[0;34m=\u001b[0m\u001b[0;36m42\u001b[0m\u001b[0;34m)\u001b[0m\u001b[0;34m\u001b[0m\u001b[0;34m\u001b[0m\u001b[0m\n\u001b[0m\u001b[1;32m     10\u001b[0m \u001b[0mx_train\u001b[0m\u001b[0;34m,\u001b[0m \u001b[0mx_val\u001b[0m\u001b[0;34m,\u001b[0m \u001b[0my_train\u001b[0m\u001b[0;34m,\u001b[0m \u001b[0my_val\u001b[0m \u001b[0;34m=\u001b[0m \u001b[0mtrain_test_split\u001b[0m\u001b[0;34m(\u001b[0m\u001b[0mx_t\u001b[0m\u001b[0;34m,\u001b[0m \u001b[0my_t\u001b[0m\u001b[0;34m,\u001b[0m \u001b[0mtest_size\u001b[0m\u001b[0;34m=\u001b[0m\u001b[0;36m0.25\u001b[0m\u001b[0;34m,\u001b[0m \u001b[0mrandom_state\u001b[0m\u001b[0;34m=\u001b[0m\u001b[0;36m40\u001b[0m\u001b[0;34m)\u001b[0m\u001b[0;34m\u001b[0m\u001b[0;34m\u001b[0m\u001b[0m\n",
            "\u001b[0;32m/usr/local/lib/python3.9/dist-packages/sklearn/model_selection/_split.py\u001b[0m in \u001b[0;36mtrain_test_split\u001b[0;34m(test_size, train_size, random_state, shuffle, stratify, *arrays)\u001b[0m\n\u001b[1;32m   2560\u001b[0m \u001b[0;34m\u001b[0m\u001b[0m\n\u001b[1;32m   2561\u001b[0m     \u001b[0mn_samples\u001b[0m \u001b[0;34m=\u001b[0m \u001b[0m_num_samples\u001b[0m\u001b[0;34m(\u001b[0m\u001b[0marrays\u001b[0m\u001b[0;34m[\u001b[0m\u001b[0;36m0\u001b[0m\u001b[0;34m]\u001b[0m\u001b[0;34m)\u001b[0m\u001b[0;34m\u001b[0m\u001b[0;34m\u001b[0m\u001b[0m\n\u001b[0;32m-> 2562\u001b[0;31m     n_train, n_test = _validate_shuffle_split(\n\u001b[0m\u001b[1;32m   2563\u001b[0m         \u001b[0mn_samples\u001b[0m\u001b[0;34m,\u001b[0m \u001b[0mtest_size\u001b[0m\u001b[0;34m,\u001b[0m \u001b[0mtrain_size\u001b[0m\u001b[0;34m,\u001b[0m \u001b[0mdefault_test_size\u001b[0m\u001b[0;34m=\u001b[0m\u001b[0;36m0.25\u001b[0m\u001b[0;34m\u001b[0m\u001b[0;34m\u001b[0m\u001b[0m\n\u001b[1;32m   2564\u001b[0m     )\n",
            "\u001b[0;32m/usr/local/lib/python3.9/dist-packages/sklearn/model_selection/_split.py\u001b[0m in \u001b[0;36m_validate_shuffle_split\u001b[0;34m(n_samples, test_size, train_size, default_test_size)\u001b[0m\n\u001b[1;32m   2234\u001b[0m \u001b[0;34m\u001b[0m\u001b[0m\n\u001b[1;32m   2235\u001b[0m     \u001b[0;32mif\u001b[0m \u001b[0mn_train\u001b[0m \u001b[0;34m==\u001b[0m \u001b[0;36m0\u001b[0m\u001b[0;34m:\u001b[0m\u001b[0;34m\u001b[0m\u001b[0;34m\u001b[0m\u001b[0m\n\u001b[0;32m-> 2236\u001b[0;31m         raise ValueError(\n\u001b[0m\u001b[1;32m   2237\u001b[0m             \u001b[0;34m\"With n_samples={}, test_size={} and train_size={}, the \"\u001b[0m\u001b[0;34m\u001b[0m\u001b[0;34m\u001b[0m\u001b[0m\n\u001b[1;32m   2238\u001b[0m             \u001b[0;34m\"resulting train set will be empty. Adjust any of the \"\u001b[0m\u001b[0;34m\u001b[0m\u001b[0;34m\u001b[0m\u001b[0m\n",
            "\u001b[0;31mValueError\u001b[0m: With n_samples=0, test_size=0.2 and train_size=None, the resulting train set will be empty. Adjust any of the aforementioned parameters."
          ]
        }
      ],
      "source": [
        "# Splitting data between training and testing sets\n",
        "\n",
        "from sklearn.model_selection import train_test_split\n",
        "\n",
        "# If integer encoding required\n",
        "#x_train, x_val, y_train, y_val = train_test_split(Timages, Tlabels_encoded, test_size=0.33, random_state=42)\n",
        "\n",
        "# If one hot encoding required\n",
        "x_t, x_test, y_t, y_test = train_test_split(Timages, Tlabels, test_size=0.20, random_state=42)\n",
        "x_train, x_val, y_train, y_val = train_test_split(x_t, y_t, test_size=0.25, random_state=40)"
      ]
    },
    {
      "cell_type": "code",
      "execution_count": null,
      "metadata": {
        "id": "9NOeFZfd9A1Q"
      },
      "outputs": [],
      "source": [
        "#Encode labels from text to integers.\n",
        "\n",
        "from sklearn import preprocessing\n",
        "le = preprocessing.LabelEncoder()\n",
        "le.fit(y_train)\n",
        "y_train = le.transform(y_train)\n",
        "\n",
        "le.fit(y_val)\n",
        "y_val = le.transform(y_val)"
      ]
    },
    {
      "cell_type": "code",
      "execution_count": null,
      "metadata": {
        "id": "xi2IbOY09Fwm"
      },
      "outputs": [],
      "source": [
        "# Perform one hot encoding\n",
        "\n",
        "from tensorflow.keras.utils import to_categorical\n",
        "y_train = to_categorical(y_train)\n",
        "y_val = to_categorical(y_val)"
      ]
    },
    {
      "cell_type": "code",
      "execution_count": null,
      "metadata": {
        "colab": {
          "base_uri": "https://localhost:8080/"
        },
        "id": "SCR92Kmp9M9x",
        "outputId": "fee05b2d-1ea2-4de6-ff81-6b89e44f5e58"
      },
      "outputs": [
        {
          "name": "stdout",
          "output_type": "stream",
          "text": [
            "19\n"
          ]
        }
      ],
      "source": [
        "# Importing pre-trainned cnn 'MobileNetV2'\n",
        "\n",
        "model = VGG16(input_shape = (128, 128, 3), weights='imagenet', include_top=False)\n",
        "print(len(model.layers))"
      ]
    },
    {
      "cell_type": "code",
      "execution_count": null,
      "metadata": {
        "id": "NSoV4jYa9Xua"
      },
      "outputs": [],
      "source": [
        "from keras.layers.normalization.batch_normalization_v1 import BatchNormalization\n",
        "from keras.layers.regularization.dropout import Dropout\n",
        "\n",
        "#Add layers for feature extraction in deep learning\n",
        "#inputs = keras.Input\n",
        "#x = data_augmentation(inputs)\n",
        "#x = preprocess_input(x)\n",
        "x = model.output\n",
        "feature_layer = GlobalAveragePooling2D()(x)\n",
        "#feature_layer = Flatten()(x)\n",
        "#feature_layer = BatchNormalization()(feature_layer)\n",
        "feature_layer = Dropout(0.2)(feature_layer)\n",
        "feature_layer = Dense(2, activation = 'softmax')(feature_layer)\n",
        "\n",
        "# Make a new model combining both feature extractor and x\n",
        "cnn_model = Model(inputs = model.input , outputs = feature_layer)"
      ]
    },
    {
      "cell_type": "code",
      "execution_count": null,
      "metadata": {
        "colab": {
          "base_uri": "https://localhost:8080/"
        },
        "id": "8OfQMdJK9bbS",
        "outputId": "24ea28c7-b7b9-42ad-9814-987429b06743",
        "collapsed": true
      },
      "outputs": [
        {
          "name": "stdout",
          "output_type": "stream",
          "text": [
            "<keras.engine.input_layer.InputLayer object at 0x7f56e9703400>\n",
            "<keras.layers.convolutional.conv2d.Conv2D object at 0x7f56c5ee7640>\n",
            "<keras.layers.convolutional.conv2d.Conv2D object at 0x7f56c5ea0b20>\n",
            "<keras.layers.pooling.max_pooling2d.MaxPooling2D object at 0x7f56c5eb0610>\n",
            "<keras.layers.convolutional.conv2d.Conv2D object at 0x7f56c5e8cfd0>\n",
            "<keras.layers.convolutional.conv2d.Conv2D object at 0x7f56c5e6fa30>\n",
            "<keras.layers.pooling.max_pooling2d.MaxPooling2D object at 0x7f56c5e5f7f0>\n",
            "<keras.layers.convolutional.conv2d.Conv2D object at 0x7f567a4d5910>\n",
            "<keras.layers.convolutional.conv2d.Conv2D object at 0x7f56c5ea06d0>\n",
            "<keras.layers.convolutional.conv2d.Conv2D object at 0x7f567a4dfb80>\n",
            "<keras.layers.pooling.max_pooling2d.MaxPooling2D object at 0x7f56ae5a0e50>\n",
            "<keras.layers.convolutional.conv2d.Conv2D object at 0x7f56c5eb0fd0>\n",
            "<keras.layers.convolutional.conv2d.Conv2D object at 0x7f567a63b6a0>\n",
            "<keras.layers.convolutional.conv2d.Conv2D object at 0x7f567a6ba970>\n",
            "<keras.layers.pooling.max_pooling2d.MaxPooling2D object at 0x7f567a6a1ca0>\n",
            "<keras.layers.convolutional.conv2d.Conv2D object at 0x7f567a6a1160>\n",
            "<keras.layers.convolutional.conv2d.Conv2D object at 0x7f567a6b11f0>\n",
            "<keras.layers.convolutional.conv2d.Conv2D object at 0x7f567a6a1e20>\n",
            "Model: \"model_7\"\n",
            "_________________________________________________________________\n",
            " Layer (type)                Output Shape              Param #   \n",
            "=================================================================\n",
            " input_6 (InputLayer)        [(None, 128, 128, 3)]     0         \n",
            "                                                                 \n",
            " block1_conv1 (Conv2D)       (None, 128, 128, 64)      1792      \n",
            "                                                                 \n",
            " block1_conv2 (Conv2D)       (None, 128, 128, 64)      36928     \n",
            "                                                                 \n",
            " block1_pool (MaxPooling2D)  (None, 64, 64, 64)        0         \n",
            "                                                                 \n",
            " block2_conv1 (Conv2D)       (None, 64, 64, 128)       73856     \n",
            "                                                                 \n",
            " block2_conv2 (Conv2D)       (None, 64, 64, 128)       147584    \n",
            "                                                                 \n",
            " block2_pool (MaxPooling2D)  (None, 32, 32, 128)       0         \n",
            "                                                                 \n",
            " block3_conv1 (Conv2D)       (None, 32, 32, 256)       295168    \n",
            "                                                                 \n",
            " block3_conv2 (Conv2D)       (None, 32, 32, 256)       590080    \n",
            "                                                                 \n",
            " block3_conv3 (Conv2D)       (None, 32, 32, 256)       590080    \n",
            "                                                                 \n",
            " block3_pool (MaxPooling2D)  (None, 16, 16, 256)       0         \n",
            "                                                                 \n",
            " block4_conv1 (Conv2D)       (None, 16, 16, 512)       1180160   \n",
            "                                                                 \n",
            " block4_conv2 (Conv2D)       (None, 16, 16, 512)       2359808   \n",
            "                                                                 \n",
            " block4_conv3 (Conv2D)       (None, 16, 16, 512)       2359808   \n",
            "                                                                 \n",
            " block4_pool (MaxPooling2D)  (None, 8, 8, 512)         0         \n",
            "                                                                 \n",
            " block5_conv1 (Conv2D)       (None, 8, 8, 512)         2359808   \n",
            "                                                                 \n",
            " block5_conv2 (Conv2D)       (None, 8, 8, 512)         2359808   \n",
            "                                                                 \n",
            " block5_conv3 (Conv2D)       (None, 8, 8, 512)         2359808   \n",
            "                                                                 \n",
            " block5_pool (MaxPooling2D)  (None, 4, 4, 512)         0         \n",
            "                                                                 \n",
            " global_average_pooling2d_7   (None, 512)              0         \n",
            " (GlobalAveragePooling2D)                                        \n",
            "                                                                 \n",
            " dropout_7 (Dropout)         (None, 512)               0         \n",
            "                                                                 \n",
            " dense_7 (Dense)             (None, 2)                 1026      \n",
            "                                                                 \n",
            "=================================================================\n",
            "Total params: 14,715,714\n",
            "Trainable params: 1,026\n",
            "Non-trainable params: 14,714,688\n",
            "_________________________________________________________________\n",
            "None\n"
          ]
        }
      ],
      "source": [
        "# Freeznig layers and compiling the modelfor layers in (cnn_model.layers)[:-4]:\n",
        "    print(layers)\n",
        "    layers.trainable = False\n",
        "\n",
        "#cnn_model.compile(optimizer='Adam',loss = 'binary_crossentropy', metrics = ['accuracy'])\n",
        "print(cnn_model.summary())"
      ]
    },
    {
      "cell_type": "code",
      "execution_count": null,
      "metadata": {
        "colab": {
          "base_uri": "https://localhost:8080/"
        },
        "id": "Sy6_TxCL9kv6",
        "outputId": "cd511dff-d3e9-44ad-f424-5c3365c83937"
      },
      "outputs": [
        {
          "name": "stdout",
          "output_type": "stream",
          "text": [
            "23/23 [==============================] - 123s 5s/step\n"
          ]
        }
      ],
      "source": [
        "# Extract the features using the deep learning architecture\n",
        "\n",
        "x_train_feature = cnn_model.predict(x_train) #This is out X input to Machine Classifier"
      ]
    },
    {
      "cell_type": "code",
      "execution_count": null,
      "metadata": {
        "id": "yrjzz2tc9pr4"
      },
      "outputs": [],
      "source": [
        "# Immport machine learning classifier\n",
        "\n",
        "#from sklearn.neighbors import KNeighborsClassifier\n",
        "#MC_model = KNeighborsClassifier()\n",
        "#from sklearn.ensemble import RandomForestClassifier\n",
        "#MC_model = RandomForestClassifier(n_estimators = 50, random_state = 42)\n",
        "#from sklearn.ensemble import AdaBoostClassifier\n",
        "#MC_model = AdaBoostClassifier(n_estimators=100)\n",
        "#from sklearn.ensemble import GradientBoostingClassifier\n",
        "#MC_model = GradientBoostingClassifier(n_estimators=100, learning_rate=1.0, max_depth=1, random_state=0)\n",
        "from sklearn.linear_model import LogisticRegression\n",
        "#MC_model = LogisticRegression(random_state=1)\n",
        "from sklearn.multiclass import OneVsRestClassifier\n",
        "MC_model = OneVsRestClassifier(LogisticRegression(random_state=1))"
      ]
    },
    {
      "cell_type": "code",
      "execution_count": null,
      "metadata": {
        "id": "BntC7J0u9-g0"
      },
      "outputs": [],
      "source": [
        "# Inverse transform training labels\n",
        "\n",
        "y_train = np.argmax(y_train,1)"
      ]
    },
    {
      "cell_type": "code",
      "execution_count": null,
      "metadata": {
        "colab": {
          "base_uri": "https://localhost:8080/"
        },
        "id": "1pL5C39F-B8U",
        "outputId": "f0fc7769-2440-47d8-edef-21ced43ae0c9",
        "collapsed": true
      },
      "outputs": [
        {
          "name": "stdout",
          "output_type": "stream",
          "text": [
            "8/8 [==============================] - 41s 5s/step\n",
            "[0 0 1 1 1 1 1 1 1 0 0 1 0 1 0 1 0 0 0 0 0 0 1 0 0 0 0 1 0 1 1 0 0 0 0 1 0\n",
            " 0 1 0 0 0 0 1 1 1 0 0 0 0 1 0 1 0 1 1 0 1 0 0 1 1 0 1 0 1 0 0 1 1 1 0 1 0\n",
            " 0 0 1 0 1 1 1 0 1 1 0 0 0 0 0 1 1 0 1 0 1 1 1 1 1 1 0 0 0 1 1 0 0 1 0 0 1\n",
            " 1 0 1 1 1 0 0 1 1 0 1 0 1 1 1 0 0 0 1 0 0 0 1 0 1 0 0 1 1 0 0 1 0 1 0 1 0\n",
            " 1 0 1 0 1 0 0 0 1 0 1 0 0 1 1 0 0 0 0 1 0 0 0 0 0 0 0 1 0 0 0 0 0 0 0 1 0\n",
            " 0 1 1 0 0 1 0 1 1 0 0 0 0 1 1 0 1 0 0 0 0 1 1 0 1 1 0 0 0 1 0 0 1 0 0 1 1\n",
            " 0 1 0 0 1 0 1 0 0 0 0 1 0 1 0 0 1 0 1]\n",
            "['Army worm' 'Army worm' 'Target spot' 'Target spot' 'Target spot'\n",
            " 'Target spot' 'Target spot' 'Target spot' 'Target spot' 'Army worm'\n",
            " 'Army worm' 'Target spot' 'Army worm' 'Target spot' 'Army worm'\n",
            " 'Target spot' 'Army worm' 'Army worm' 'Army worm' 'Army worm' 'Army worm'\n",
            " 'Army worm' 'Target spot' 'Army worm' 'Army worm' 'Army worm' 'Army worm'\n",
            " 'Target spot' 'Army worm' 'Target spot' 'Target spot' 'Army worm'\n",
            " 'Army worm' 'Army worm' 'Army worm' 'Target spot' 'Army worm' 'Army worm'\n",
            " 'Target spot' 'Army worm' 'Army worm' 'Army worm' 'Army worm'\n",
            " 'Target spot' 'Target spot' 'Target spot' 'Army worm' 'Army worm'\n",
            " 'Army worm' 'Army worm' 'Target spot' 'Army worm' 'Target spot'\n",
            " 'Army worm' 'Target spot' 'Target spot' 'Army worm' 'Target spot'\n",
            " 'Army worm' 'Army worm' 'Target spot' 'Target spot' 'Army worm'\n",
            " 'Target spot' 'Army worm' 'Target spot' 'Army worm' 'Army worm'\n",
            " 'Target spot' 'Target spot' 'Target spot' 'Army worm' 'Target spot'\n",
            " 'Army worm' 'Army worm' 'Army worm' 'Target spot' 'Army worm'\n",
            " 'Target spot' 'Target spot' 'Target spot' 'Army worm' 'Target spot'\n",
            " 'Target spot' 'Army worm' 'Army worm' 'Army worm' 'Army worm' 'Army worm'\n",
            " 'Target spot' 'Target spot' 'Army worm' 'Target spot' 'Army worm'\n",
            " 'Target spot' 'Target spot' 'Target spot' 'Target spot' 'Target spot'\n",
            " 'Target spot' 'Army worm' 'Army worm' 'Army worm' 'Target spot'\n",
            " 'Target spot' 'Army worm' 'Army worm' 'Target spot' 'Army worm'\n",
            " 'Army worm' 'Target spot' 'Target spot' 'Army worm' 'Target spot'\n",
            " 'Target spot' 'Target spot' 'Army worm' 'Army worm' 'Target spot'\n",
            " 'Target spot' 'Army worm' 'Target spot' 'Army worm' 'Target spot'\n",
            " 'Target spot' 'Target spot' 'Army worm' 'Army worm' 'Army worm'\n",
            " 'Target spot' 'Army worm' 'Army worm' 'Army worm' 'Target spot'\n",
            " 'Army worm' 'Target spot' 'Army worm' 'Army worm' 'Target spot'\n",
            " 'Target spot' 'Army worm' 'Army worm' 'Target spot' 'Army worm'\n",
            " 'Target spot' 'Army worm' 'Target spot' 'Army worm' 'Target spot'\n",
            " 'Army worm' 'Target spot' 'Army worm' 'Target spot' 'Army worm'\n",
            " 'Army worm' 'Army worm' 'Target spot' 'Army worm' 'Target spot'\n",
            " 'Army worm' 'Army worm' 'Target spot' 'Target spot' 'Army worm'\n",
            " 'Army worm' 'Army worm' 'Army worm' 'Target spot' 'Army worm' 'Army worm'\n",
            " 'Army worm' 'Army worm' 'Army worm' 'Army worm' 'Army worm' 'Target spot'\n",
            " 'Army worm' 'Army worm' 'Army worm' 'Army worm' 'Army worm' 'Army worm'\n",
            " 'Army worm' 'Target spot' 'Army worm' 'Army worm' 'Target spot'\n",
            " 'Target spot' 'Army worm' 'Army worm' 'Target spot' 'Army worm'\n",
            " 'Target spot' 'Target spot' 'Army worm' 'Army worm' 'Army worm'\n",
            " 'Army worm' 'Target spot' 'Target spot' 'Army worm' 'Target spot'\n",
            " 'Army worm' 'Army worm' 'Army worm' 'Army worm' 'Target spot'\n",
            " 'Target spot' 'Army worm' 'Target spot' 'Target spot' 'Army worm'\n",
            " 'Army worm' 'Army worm' 'Target spot' 'Army worm' 'Army worm'\n",
            " 'Target spot' 'Army worm' 'Army worm' 'Target spot' 'Target spot'\n",
            " 'Army worm' 'Target spot' 'Army worm' 'Army worm' 'Target spot'\n",
            " 'Army worm' 'Target spot' 'Army worm' 'Army worm' 'Army worm' 'Army worm'\n",
            " 'Target spot' 'Army worm' 'Target spot' 'Army worm' 'Army worm'\n",
            " 'Target spot' 'Army worm' 'Target spot']\n"
          ]
        }
      ],
      "source": [
        "# Train the model on training data\n",
        "\n",
        "MC_model.fit(x_train_feature, y_train)                # x - Image, y - Label\n",
        "\n",
        "X_test_feature = cnn_model.predict(x_test)\n",
        "prediction_MC_Unravel = MC_model.predict(X_test_feature)\n",
        "prediction_MC = prediction_MC_Unravel\n",
        "print(prediction_MC)\n",
        "prediction_MC = le.inverse_transform(prediction_MC)\n",
        "print(prediction_MC)"
      ]
    },
    {
      "cell_type": "code",
      "execution_count": null,
      "metadata": {
        "colab": {
          "base_uri": "https://localhost:8080/",
          "height": 453
        },
        "id": "jPX5rXEz-EI-",
        "outputId": "328cc9fb-26e2-4add-fbfd-84175cb1f0c3"
      },
      "outputs": [
        {
          "data": {
            "application/javascript": [
              "\n",
              "    async function download(id, filename, size) {\n",
              "      if (!google.colab.kernel.accessAllowed) {\n",
              "        return;\n",
              "      }\n",
              "      const div = document.createElement('div');\n",
              "      const label = document.createElement('label');\n",
              "      label.textContent = `Downloading \"${filename}\": `;\n",
              "      div.appendChild(label);\n",
              "      const progress = document.createElement('progress');\n",
              "      progress.max = size;\n",
              "      div.appendChild(progress);\n",
              "      document.body.appendChild(div);\n",
              "\n",
              "      const buffers = [];\n",
              "      let downloaded = 0;\n",
              "\n",
              "      const channel = await google.colab.kernel.comms.open(id);\n",
              "      // Send a message to notify the kernel that we're ready.\n",
              "      channel.send({})\n",
              "\n",
              "      for await (const message of channel.messages) {\n",
              "        // Send a message to notify the kernel that we're ready.\n",
              "        channel.send({})\n",
              "        if (message.buffers) {\n",
              "          for (const buffer of message.buffers) {\n",
              "            buffers.push(buffer);\n",
              "            downloaded += buffer.byteLength;\n",
              "            progress.value = downloaded;\n",
              "          }\n",
              "        }\n",
              "      }\n",
              "      const blob = new Blob(buffers, {type: 'application/binary'});\n",
              "      const a = document.createElement('a');\n",
              "      a.href = window.URL.createObjectURL(blob);\n",
              "      a.download = filename;\n",
              "      div.appendChild(a);\n",
              "      a.click();\n",
              "      div.remove();\n",
              "    }\n",
              "  "
            ],
            "text/plain": [
              "<IPython.core.display.Javascript object>"
            ]
          },
          "metadata": {},
          "output_type": "display_data"
        },
        {
          "data": {
            "application/javascript": [
              "download(\"download_b14bc9ed-0294-441d-82d8-efc268d05e5b\", \"MobileNetV2+KN.pdf\", 18594)"
            ],
            "text/plain": [
              "<IPython.core.display.Javascript object>"
            ]
          },
          "metadata": {},
          "output_type": "display_data"
        },
        {
          "data": {
            "image/png": "[encoded data removed]",
            "text/plain": [
              "<Figure size 600x400 with 1 Axes>"
            ]
          },
          "metadata": {},
          "output_type": "display_data"
        },
        {
          "data": {
            "text/plain": [
              "<Axes: title={'center': 'Learning Curve for OneVsRestClassifier'}, xlabel='Training Instances', ylabel='Score'>"
            ]
          },
          "execution_count": 100,
          "metadata": {},
          "output_type": "execute_result"
        }
      ],
      "source": [
        "# Draw learning curves with cross-validation\n",
        "\n",
        "import numpy as np\n",
        "\n",
        "from sklearn.model_selection import StratifiedKFold\n",
        "from sklearn.preprocessing import OneHotEncoder, LabelEncoder\n",
        "from yellowbrick.model_selection import LearningCurve\n",
        "\n",
        "# Input the data\n",
        "X = x_train_feature\n",
        "y_train_decoded = y_train\n",
        "y = y_train_decoded\n",
        "\n",
        "# Create the learning curve visualizer\n",
        "cv = 4\n",
        "#cv = StratifiedKFold(n_splits=12)\n",
        "sizes = np.linspace(0.1, 1.0, 20)\n",
        "\n",
        "# Instantiate the classification model and visualizer\n",
        "fig = plt.figure(figsize=(6,4))\n",
        "ax = fig.add_subplot(111)\n",
        "for axis in ['top', 'bottom', 'left', 'right']:\n",
        "    ax.spines[axis].set_linewidth(4)\n",
        "    ax.spines[axis].set_color('brown')\n",
        "\n",
        "plt.xticks(fontsize=17,weight='bold')\n",
        "plt.yticks(fontsize=17,weight='bold')\n",
        "\n",
        "#ax.yaxis.set_major_formatter(FormatStrFormatter('%.2f'))\n",
        "\n",
        "visualizer = LearningCurve(MC_model, cv=cv, scoring='accuracy', train_sizes=sizes, ax=ax, kws = {'linewidths': [100,100]})\n",
        "visualizer.fit(X, y)        # Fit the data to the visualizer\n",
        "\n",
        "visualizer.ax.set_xlabel('Training instances',fontsize=25,color='brown',weight='bold')\n",
        "visualizer.ax.set_ylabel('Score',fontsize=25,color='brown',weight='bold')\n",
        "visualizer.ax.set_title('MobileNetV2+KN',fontsize=25,color='brown',weight='bold')\n",
        "plt.xticks(fontsize=17,weight='bold')\n",
        "plt.yticks(fontsize=17,weight='bold')\n",
        "plt.legend(loc=(0.56,0.03), frameon=True, prop={'size':10,'weight':'bold'})\n",
        "\n",
        "plt.savefig(\"MobileNetV2+KN.pdf\", bbox_inches='tight')\n",
        "files.download(\"MobileNetV2+KN.pdf\")\n",
        "\n",
        "visualizer.show()           # Finalize and render the figure"
      ]
    },
    {
      "cell_type": "code",
      "execution_count": null,
      "metadata": {
        "colab": {
          "base_uri": "https://localhost:8080/",
          "height": 1000
        },
        "id": "txd9ekWc-gVu",
        "outputId": "5da2a2ea-4644-4cd9-86c2-06433ce5d173",
        "collapsed": true
      },
      "outputs": [
        {
          "name": "stdout",
          "output_type": "stream",
          "text": [
            "Accuracy =  0.5726141078838174\n",
            "['Target spot' 'Army worm' 'Target spot' 'Target spot' 'Target spot'\n",
            " 'Target spot' 'Target spot' 'Army worm' 'Army worm' 'Target spot'\n",
            " 'Army worm' 'Target spot' 'Target spot' 'Target spot' 'Army worm'\n",
            " 'Target spot' 'Target spot' 'Army worm' 'Target spot' 'Army worm'\n",
            " 'Army worm' 'Target spot' 'Target spot' 'Army worm' 'Army worm'\n",
            " 'Army worm' 'Target spot' 'Target spot' 'Target spot' 'Target spot'\n",
            " 'Target spot' 'Target spot' 'Target spot' 'Target spot' 'Army worm'\n",
            " 'Target spot' 'Army worm' 'Army worm' 'Target spot' 'Target spot'\n",
            " 'Target spot' 'Target spot' 'Target spot' 'Army worm' 'Target spot'\n",
            " 'Target spot' 'Target spot' 'Army worm' 'Target spot' 'Target spot'\n",
            " 'Target spot' 'Target spot' 'Target spot' 'Target spot' 'Target spot'\n",
            " 'Target spot' 'Army worm' 'Target spot' 'Army worm' 'Target spot'\n",
            " 'Army worm' 'Target spot' 'Army worm' 'Target spot' 'Target spot'\n",
            " 'Target spot' 'Target spot' 'Army worm' 'Target spot' 'Target spot'\n",
            " 'Army worm' 'Target spot' 'Target spot' 'Army worm' 'Army worm'\n",
            " 'Army worm' 'Target spot' 'Target spot' 'Army worm' 'Army worm'\n",
            " 'Target spot' 'Target spot' 'Army worm' 'Army worm' 'Army worm'\n",
            " 'Army worm' 'Target spot' 'Target spot' 'Army worm' 'Target spot'\n",
            " 'Target spot' 'Army worm' 'Target spot' 'Army worm' 'Army worm'\n",
            " 'Army worm' 'Target spot' 'Target spot' 'Target spot' 'Target spot'\n",
            " 'Army worm' 'Target spot' 'Target spot' 'Target spot' 'Target spot'\n",
            " 'Target spot' 'Target spot' 'Army worm' 'Army worm' 'Target spot'\n",
            " 'Target spot' 'Target spot' 'Army worm' 'Target spot' 'Target spot'\n",
            " 'Army worm' 'Target spot' 'Target spot' 'Target spot' 'Target spot'\n",
            " 'Army worm' 'Army worm' 'Target spot' 'Target spot' 'Army worm'\n",
            " 'Target spot' 'Target spot' 'Target spot' 'Army worm' 'Army worm'\n",
            " 'Army worm' 'Army worm' 'Army worm' 'Target spot' 'Target spot'\n",
            " 'Target spot' 'Army worm' 'Army worm' 'Army worm' 'Target spot'\n",
            " 'Army worm' 'Army worm' 'Target spot' 'Target spot' 'Target spot'\n",
            " 'Target spot' 'Army worm' 'Army worm' 'Target spot' 'Army worm'\n",
            " 'Army worm' 'Army worm' 'Army worm' 'Target spot' 'Army worm'\n",
            " 'Target spot' 'Army worm' 'Target spot' 'Army worm' 'Target spot'\n",
            " 'Army worm' 'Target spot' 'Target spot' 'Army worm' 'Target spot'\n",
            " 'Target spot' 'Army worm' 'Target spot' 'Army worm' 'Target spot'\n",
            " 'Army worm' 'Army worm' 'Army worm' 'Target spot' 'Army worm'\n",
            " 'Target spot' 'Army worm' 'Army worm' 'Target spot' 'Target spot'\n",
            " 'Army worm' 'Target spot' 'Army worm' 'Target spot' 'Army worm'\n",
            " 'Army worm' 'Army worm' 'Target spot' 'Army worm' 'Target spot'\n",
            " 'Target spot' 'Target spot' 'Army worm' 'Army worm' 'Target spot'\n",
            " 'Army worm' 'Target spot' 'Target spot' 'Army worm' 'Army worm'\n",
            " 'Army worm' 'Target spot' 'Target spot' 'Target spot' 'Army worm'\n",
            " 'Target spot' 'Army worm' 'Target spot' 'Army worm' 'Army worm'\n",
            " 'Army worm' 'Army worm' 'Target spot' 'Target spot' 'Army worm'\n",
            " 'Army worm' 'Target spot' 'Target spot' 'Target spot' 'Army worm'\n",
            " 'Army worm' 'Target spot' 'Army worm' 'Target spot' 'Target spot'\n",
            " 'Army worm' 'Target spot' 'Target spot' 'Target spot' 'Target spot'\n",
            " 'Army worm' 'Army worm' 'Army worm' 'Target spot' 'Army worm'\n",
            " 'Target spot' 'Target spot' 'Target spot' 'Army worm' 'Target spot'\n",
            " 'Target spot']\n"
          ]
        },
        {
          "data": {
            "text/plain": [
              "<Axes: >"
            ]
          },
          "execution_count": 145,
          "metadata": {},
          "output_type": "execute_result"
        },
        {
          "data": {
            "image/png": "[encoded data removed]",
            "text/plain": [
              "<Figure size 800x550 with 2 Axes>"
            ]
          },
          "metadata": {},
          "output_type": "display_data"
        }
      ],
      "source": [
        "#Print overall accuracy\n",
        "\n",
        "from sklearn import metrics\n",
        "from sklearn.metrics import confusion_matrix\n",
        "print (\"Accuracy = \", metrics.accuracy_score(y_test, prediction_MC))\n",
        "\n",
        "print(y_test)\n",
        "#print(le.inverse_transform(prediction_MC))\n",
        "\n",
        "\n",
        "\n",
        "#Confusion Matrix - verify accuracy of each class\n",
        "cm = confusion_matrix(y_test, prediction_MC)\n",
        "#print(cm)\n",
        "sns.heatmap(cm, annot=True)"
      ]
    },
    {
      "cell_type": "code",
      "execution_count": null,
      "metadata": {
        "id": "KR28f47NyIry"
      },
      "outputs": [],
      "source": [
        "\n"
      ]
    }
  ],
  "metadata": {
    "colab": {
      "provenance": []
    },
    "kernelspec": {
      "display_name": "Python 3",
      "name": "python3"
    },
    "language_info": {
      "name": "python"
    }
  },
  "nbformat": 4,
  "nbformat_minor": 0
}